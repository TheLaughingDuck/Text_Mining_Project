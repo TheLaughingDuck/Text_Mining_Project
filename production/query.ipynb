{
 "cells": [
  {
   "cell_type": "markdown",
   "metadata": {},
   "source": [
    "# This Notebook...\n",
    "...queries one of the Steam API endpoints repeatedly, then formats the acquired data (steam game reviews) into a pandas dataframe, and then saves it in \"data/data_raw.csv\"."
   ]
  },
  {
   "cell_type": "markdown",
   "metadata": {},
   "source": [
    "# Dependencies"
   ]
  },
  {
   "cell_type": "code",
   "execution_count": 77,
   "metadata": {},
   "outputs": [],
   "source": [
    "import requests\n",
    "import json\n",
    "\n",
    "import os\n",
    "from urllib.parse import quote\n",
    "from dotenv import load_dotenv\n",
    "load_dotenv()\n",
    "\n",
    "import pandas as pd"
   ]
  },
  {
   "cell_type": "markdown",
   "metadata": {},
   "source": [
    "# Query the API for data with a series of requests"
   ]
  },
  {
   "cell_type": "code",
   "execution_count": 78,
   "metadata": {},
   "outputs": [
    {
     "name": "stdout",
     "output_type": "stream",
     "text": [
      "{'num_reviews': 100, 'review_score': 8, 'review_score_desc': 'Very Positive', 'total_positive': 83923, 'total_negative': 11300, 'total_reviews': 95223}\n",
      "\n",
      "Obtained 95251 reviews.\n"
     ]
    }
   ],
   "source": [
    "app_id = \"281990\" # Stellaris  #\"221001\" # FTL\n",
    "\n",
    "# Setup requests\n",
    "data_list = []\n",
    "cursor = \"*\" # Start cursor is \"*\"\n",
    "I_want_to_keep_going = True\n",
    "n_tot_reviews = 0 # Count number of loaded reviews\n",
    "\n",
    "while I_want_to_keep_going and n_tot_reviews < 1000000:\n",
    "    url = f\"https://store.steampowered.com/appreviews/{app_id}?json=1&filter=updated&cursor={quote(cursor)}&review_type=all&purchase_type=all&num_per_page=100&language=english&day_range=365?\"#key={os.environ[\"STEAM\"]}\"\n",
    "    #url = \"https://store.steampowered.com/appreviews/10\" + cursor + \"?json=1&filter=updated\"\n",
    "    response = requests.get(url)\n",
    "    data = json.loads(response.content)\n",
    "\n",
    "    # Get a query summary from first request\n",
    "    if cursor == \"*\":\n",
    "        print(data[\"query_summary\"])\n",
    "    \n",
    "    # Print the success code (\"1\" is good)\n",
    "    #print(data[\"success\"])\n",
    "\n",
    "    # Keep track of number of reviews\n",
    "    n_tot_reviews += len(data[\"reviews\"])\n",
    "\n",
    "    # Handle potential issues\n",
    "    try:\n",
    "        if cursor == data[\"cursor\"]: I_want_to_keep_going = False\n",
    "        else:\n",
    "            try:\n",
    "                cursor = data[\"cursor\"]\n",
    "                data_list.append(data)\n",
    "            except:\n",
    "                break\n",
    "    except:\n",
    "        break\n",
    "\n",
    "#params[\"cursor\"] = data1[\"cursor\"]\n",
    "\n",
    "# cursor1 = data1[\"cursor\"]\n",
    "# response2 = requests.get(\"https://store.steampowered.com/appreviews/\" + app_id + \"&cursor=\" + cursor1, params=params)\n",
    "# data2 = json.loads(response2.content)\n",
    "# print(data2[\"cursor\"])\n",
    "\n",
    "\n",
    "#data[\"reviews\"][12][\"review\"] #12 is rev index\n",
    "\n",
    "print(\"\\nObtained \" + str(sum([len(i[\"reviews\"]) for i in data_list])) + \" reviews.\")\n",
    "#print(\"\\nLengths:\")\n",
    "#[print(len(i[\"reviews\"])) for i in data_list]\n",
    "\n",
    "#print(\"\\nCursors:\")\n",
    "#[print(i[\"cursor\"]) for i in data_list]#, data1[\"cursor\"], \" and Cursor 2: \", data2[\"cursor\"], \" Equal: \", data1[\"cursor\"] == data2[\"cursor\"])\n",
    "\n",
    "#print(\"\\nFirst reviews:\")\n",
    "#[print(i[\"reviews\"][0][\"review\"] + \"\\n-----\") for i in data_list] # data1[\"reviews\"][0][\"review\"] == data2[\"reviews\"][0][\"review\"])"
   ]
  },
  {
   "cell_type": "markdown",
   "metadata": {},
   "source": [
    "# Format the data into a dataframe"
   ]
  },
  {
   "cell_type": "code",
   "execution_count": 89,
   "metadata": {},
   "outputs": [],
   "source": [
    "# Each element in data_list is a \"package\" of a couple of reviews.\n",
    "\n",
    "# Maka a list of tuples representing our observations\n",
    "data = []\n",
    "\n",
    "for pack in data_list:\n",
    "    for review in pack[\"reviews\"]:\n",
    "        # If the dev has responded, two additional \"columns\"/keys are included. We skip them because they are very few.\n",
    "        if 'timestamp_dev_responded' in review.keys() and 'developer_response' in review.keys():\n",
    "            review.pop('timestamp_dev_responded')\n",
    "            review.pop('developer_response')\n",
    "        #data.append(review.values())\n",
    "        \n",
    "        # Extract the review, the voted_up bool, and the playtime at the time of the review\n",
    "        try:\n",
    "            data.append([review[\"review\"], review[\"voted_up\"], review[\"author\"][\"playtime_at_review\"], review[\"weighted_vote_score\"]])\n",
    "        except:\n",
    "            continue\n",
    "\n",
    "# Make a list of the keys present for each individual review\n",
    "#colnames = list(data_list[1][\"reviews\"][0].keys())\n",
    "colnames = [\"review\", \"voted_up\", \"playtime\", \"helpfulness\"]\n",
    "\n",
    "df = pd.DataFrame(data, columns=colnames)"
   ]
  },
  {
   "cell_type": "markdown",
   "metadata": {},
   "source": [
    "# Perform some simple/quick preprocessing"
   ]
  },
  {
   "cell_type": "code",
   "execution_count": 90,
   "metadata": {},
   "outputs": [],
   "source": [
    "# Add a column for the length of each review (in characters)\n",
    "df[\"length\"] = [len(rev) for rev in df[\"review\"]]\n",
    "\n",
    "# Standardise length\n",
    "df[\"length\"] = df[\"length\"]/max(df[\"length\"])\n",
    "\n",
    "# Standardise playtime\n",
    "df[\"playtime\"] = df[\"playtime\"]/max(df[\"playtime\"])\n",
    "\n",
    "# Filter away reviews with zero weighted_vote_score (\"helpfulness\")\n",
    "df = df[df[\"helpfulness\"] != 0]"
   ]
  },
  {
   "cell_type": "markdown",
   "metadata": {},
   "source": [
    "# Save the raw data"
   ]
  },
  {
   "cell_type": "code",
   "execution_count": 94,
   "metadata": {},
   "outputs": [],
   "source": [
    "df.to_csv(\"data_raw.csv\") # Overwrites"
   ]
  },
  {
   "cell_type": "code",
   "execution_count": 93,
   "metadata": {},
   "outputs": [
    {
     "name": "stdout",
     "output_type": "stream",
     "text": [
      "Finished querying data!\n"
     ]
    }
   ],
   "source": [
    "print(\"Finished querying data!\")"
   ]
  }
 ],
 "metadata": {
  "kernelspec": {
   "display_name": "tm_vnv",
   "language": "python",
   "name": "python3"
  },
  "language_info": {
   "codemirror_mode": {
    "name": "ipython",
    "version": 3
   },
   "file_extension": ".py",
   "mimetype": "text/x-python",
   "name": "python",
   "nbconvert_exporter": "python",
   "pygments_lexer": "ipython3",
   "version": "3.12.1"
  }
 },
 "nbformat": 4,
 "nbformat_minor": 2
}
